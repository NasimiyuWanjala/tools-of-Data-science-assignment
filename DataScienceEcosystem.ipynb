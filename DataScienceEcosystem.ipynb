{
 "cells": [
  {
   "cell_type": "markdown",
   "id": "b714ebd9-07fd-4678-80db-f316cd4a95d5",
   "metadata": {},
   "source": [
    "# Data Science Tools and Ecosystem"
   ]
  },
  {
   "cell_type": "markdown",
   "id": "36694b49-cc85-469c-9046-8608af9d7bb6",
   "metadata": {},
   "source": [
    "# In this notebook, Data Science Tools and Ecosystem are summarized."
   ]
  },
  {
   "cell_type": "markdown",
   "id": "24433896-f283-4765-9275-9aaa710e81b8",
   "metadata": {},
   "source": [
    "# Some of the popular languages that Data Scientists use are:\n",
    "1. Python\n",
    "2. SQL\n",
    "3. R"
   ]
  },
  {
   "cell_type": "markdown",
   "id": "d31c8f85-1c5f-427c-88ac-2db8698a8583",
   "metadata": {},
   "source": [
    "### **Objectives**\n",
    "- learn introduction to coding\n",
    "- How to write comments in python\n",
    "- Download tools of data sciene"
   ]
  },
  {
   "cell_type": "markdown",
   "id": "e51f425c-09d9-4eb5-a90f-8dff86b895c4",
   "metadata": {},
   "source": [
    "# Some of the commonly used libraries used by Data Scientists include:\n",
    "1. Pandas\n",
    "2. Numphy\n",
    "3. Tensorflow\n"
   ]
  },
  {
   "cell_type": "markdown",
   "id": "ac925e22-ab28-447f-bd5a-ac90707aaaa4",
   "metadata": {},
   "source": [
    "|Data Science Tools|\n",
    "|-----------------|\n",
    "| Jupyter notetook |\n",
    "| Rstudio|\n",
    "| Spyder |"
   ]
  },
  {
   "cell_type": "markdown",
   "id": "da4a9388-f820-41f7-a69f-90b1aa6de750",
   "metadata": {},
   "source": [
    "### Below are a few examples of evaluating arithmetic expressions in Python:\n"
   ]
  },
  {
   "cell_type": "code",
   "execution_count": 1,
   "id": "ce5693d2-6241-4b8c-9f4f-8b7b36e84d7d",
   "metadata": {},
   "outputs": [
    {
     "name": "stdout",
     "output_type": "stream",
     "text": [
      "17\n"
     ]
    }
   ],
   "source": [
    "#### This a simple arithmetic expression to mutiply then add integers\n",
    "result = (3 * 4) + 5\n",
    "\n",
    "# Print the result\n",
    "print(result)\n",
    "\n"
   ]
  },
  {
   "cell_type": "code",
   "execution_count": 3,
   "id": "e410a090-a9a9-4523-b3a7-10dc58c1da8d",
   "metadata": {},
   "outputs": [
    {
     "name": "stdout",
     "output_type": "stream",
     "text": [
      "3.3333333333333335\n"
     ]
    }
   ],
   "source": [
    "### This will convert 200 minutes to hours by diving by 60\n",
    "result = 200/60\n",
    "print (result)"
   ]
  },
  {
   "cell_type": "markdown",
   "id": "d4b27d54-7c92-4176-8320-66572f3c0cd1",
   "metadata": {},
   "source": [
    "## Author\n",
    "Michelle Wanjala"
   ]
  }
 ],
 "metadata": {
  "kernelspec": {
   "display_name": "Python 3 (ipykernel)",
   "language": "python",
   "name": "python3"
  },
  "language_info": {
   "codemirror_mode": {
    "name": "ipython",
    "version": 3
   },
   "file_extension": ".py",
   "mimetype": "text/x-python",
   "name": "python",
   "nbconvert_exporter": "python",
   "pygments_lexer": "ipython3",
   "version": "3.11.7"
  }
 },
 "nbformat": 4,
 "nbformat_minor": 5
}
